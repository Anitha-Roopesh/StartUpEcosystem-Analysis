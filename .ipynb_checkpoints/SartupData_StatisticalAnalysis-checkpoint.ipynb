{
 "cells": [
  {
   "cell_type": "markdown",
   "metadata": {},
   "source": [
    "• DOMAIN: Startup ecosystem\n",
    "\n",
    "\n",
    "• CONTEXT: Company X is a EU online publisher focusing on the startups industry. The company specifically reports on the business related to technology news, analysis of emerging trends and profiling of new tech businesses and products. Their event i.e. Startup Battlefield is the world’s pre-eminent startup competition. Startup Battlefield features 15-30 top early stage startups pitching top judges in front of a vast live audience, present in person and online.\n",
    "\n",
    "\n",
    "• DATA DESCRIPTION: CompanyX_EU.csv - Each row in the dataset is a Start-up company and the columns describe the company. ATTRIBUTE INFORMATION:\n",
    "\n",
    "1. Startup: Name of the company\n",
    "\n",
    "2. Product: Actual product\n",
    "\n",
    "3. Funding: Funds raised by the company in USD\n",
    "\n",
    "4. Event: The event the company participated in\n",
    "\n",
    "5. Result: Described by Contestant, Finalist, Audience choice, Winner or Runner up\n",
    "\n",
    "6. OperatingState: Current status of the company, Operating ,Closed, Acquired or IPO\n",
    "\n",
    "\n",
    "*Dataset has been downloaded from the internet. All the credit for the dataset goes to the original creator of the data.\n"
   ]
  },
  {
   "cell_type": "code",
   "execution_count": 1,
   "metadata": {},
   "outputs": [],
   "source": [
    "#Import all the required libraries\n",
    "\n",
    "import pandas as pd\n",
    "import numpy as np\n",
    "\n",
    "# plotting \n",
    "import matplotlib.pyplot as plt\n",
    "import seaborn as sns\n",
    "from matplotlib.cbook import boxplot_stats\n",
    "\n",
    "# scikit learn for statistical analysis\n",
    "from scipy.stats import ttest_1samp, ttest_ind, mannwhitneyu, levene, shapiro\n",
    "from statsmodels.stats.power import ttest_power\n",
    "from scipy.stats import norm\n",
    "import scipy.stats as st\n",
    "from scipy.stats import f\n",
    "from math import *\n",
    "import statsmodels.api as sm\n",
    "from   statsmodels.formula.api import ols\n",
    "\n",
    "import warnings  # Lets ignore the module warnings\n",
    "warnings.filterwarnings(\"ignore\")"
   ]
  },
  {
   "cell_type": "markdown",
   "metadata": {},
   "source": [
    "### 1. DataWarehouse"
   ]
  },
  {
   "cell_type": "code",
   "execution_count": 2,
   "metadata": {},
   "outputs": [
    {
     "data": {
      "text/html": [
       "<div>\n",
       "<style scoped>\n",
       "    .dataframe tbody tr th:only-of-type {\n",
       "        vertical-align: middle;\n",
       "    }\n",
       "\n",
       "    .dataframe tbody tr th {\n",
       "        vertical-align: top;\n",
       "    }\n",
       "\n",
       "    .dataframe thead th {\n",
       "        text-align: right;\n",
       "    }\n",
       "</style>\n",
       "<table border=\"1\" class=\"dataframe\">\n",
       "  <thead>\n",
       "    <tr style=\"text-align: right;\">\n",
       "      <th></th>\n",
       "      <th>Startup</th>\n",
       "      <th>Product</th>\n",
       "      <th>Funding</th>\n",
       "      <th>Event</th>\n",
       "      <th>Result</th>\n",
       "      <th>OperatingState</th>\n",
       "    </tr>\n",
       "  </thead>\n",
       "  <tbody>\n",
       "    <tr>\n",
       "      <th>0</th>\n",
       "      <td>2600Hz</td>\n",
       "      <td>2600hz.com</td>\n",
       "      <td>NaN</td>\n",
       "      <td>Disrupt SF 2013</td>\n",
       "      <td>Contestant</td>\n",
       "      <td>Operating</td>\n",
       "    </tr>\n",
       "    <tr>\n",
       "      <th>1</th>\n",
       "      <td>3DLT</td>\n",
       "      <td>3dlt.com</td>\n",
       "      <td>$630K</td>\n",
       "      <td>Disrupt NYC 2013</td>\n",
       "      <td>Contestant</td>\n",
       "      <td>Closed</td>\n",
       "    </tr>\n",
       "    <tr>\n",
       "      <th>2</th>\n",
       "      <td>3DPrinterOS</td>\n",
       "      <td>3dprinteros.com</td>\n",
       "      <td>NaN</td>\n",
       "      <td>Disrupt SF 2016</td>\n",
       "      <td>Contestant</td>\n",
       "      <td>Operating</td>\n",
       "    </tr>\n",
       "    <tr>\n",
       "      <th>3</th>\n",
       "      <td>3Dprintler</td>\n",
       "      <td>3dprintler.com</td>\n",
       "      <td>$1M</td>\n",
       "      <td>Disrupt NY 2016</td>\n",
       "      <td>Audience choice</td>\n",
       "      <td>Operating</td>\n",
       "    </tr>\n",
       "    <tr>\n",
       "      <th>4</th>\n",
       "      <td>42 Technologies</td>\n",
       "      <td>42technologies.com</td>\n",
       "      <td>NaN</td>\n",
       "      <td>Disrupt NYC 2013</td>\n",
       "      <td>Contestant</td>\n",
       "      <td>Operating</td>\n",
       "    </tr>\n",
       "  </tbody>\n",
       "</table>\n",
       "</div>"
      ],
      "text/plain": [
       "           Startup             Product Funding             Event  \\\n",
       "0           2600Hz          2600hz.com     NaN   Disrupt SF 2013   \n",
       "1             3DLT            3dlt.com   $630K  Disrupt NYC 2013   \n",
       "2      3DPrinterOS     3dprinteros.com     NaN   Disrupt SF 2016   \n",
       "3       3Dprintler      3dprintler.com     $1M   Disrupt NY 2016   \n",
       "4  42 Technologies  42technologies.com     NaN  Disrupt NYC 2013   \n",
       "\n",
       "            Result OperatingState  \n",
       "0       Contestant      Operating  \n",
       "1       Contestant         Closed  \n",
       "2       Contestant      Operating  \n",
       "3  Audience choice      Operating  \n",
       "4       Contestant      Operating  "
      ]
     },
     "execution_count": 2,
     "metadata": {},
     "output_type": "execute_result"
    }
   ],
   "source": [
    "# Read the csv file\n",
    "\n",
    "data = pd.read_csv(\"StartupEcosystem.csv\")\n",
    "data.head()"
   ]
  },
  {
   "cell_type": "markdown",
   "metadata": {},
   "source": [
    "* Dataset has information of startup industries \n",
    "* Most of the data values are string\n",
    "* Funding should be a numeric value but it contains string.\n",
    "* Startup contains string.\n",
    "* Event , Result and OperatingState are categorical."
   ]
  },
  {
   "cell_type": "code",
   "execution_count": 3,
   "metadata": {},
   "outputs": [
    {
     "data": {
      "text/plain": [
       "0"
      ]
     },
     "execution_count": 3,
     "metadata": {},
     "output_type": "execute_result"
    }
   ],
   "source": [
    "# Identify duplicates records in the data\n",
    "\n",
    "dupes = data.duplicated()\n",
    "sum(dupes)"
   ]
  },
  {
   "cell_type": "markdown",
   "metadata": {},
   "source": [
    "There are no duplicates in the dataset"
   ]
  },
  {
   "cell_type": "markdown",
   "metadata": {},
   "source": [
    "### 2. Data exploration:"
   ]
  },
  {
   "cell_type": "markdown",
   "metadata": {},
   "source": [
    "###### • Check the datatypes of each attribute."
   ]
  },
  {
   "cell_type": "code",
   "execution_count": 4,
   "metadata": {},
   "outputs": [
    {
     "data": {
      "text/plain": [
       "Startup           object\n",
       "Product           object\n",
       "Funding           object\n",
       "Event             object\n",
       "Result            object\n",
       "OperatingState    object\n",
       "dtype: object"
      ]
     },
     "execution_count": 4,
     "metadata": {},
     "output_type": "execute_result"
    }
   ],
   "source": [
    "data.dtypes"
   ]
  },
  {
   "cell_type": "markdown",
   "metadata": {},
   "source": [
    "All the attributes are of object type , consists of string"
   ]
  },
  {
   "cell_type": "code",
   "execution_count": 5,
   "metadata": {},
   "outputs": [
    {
     "name": "stdout",
     "output_type": "stream",
     "text": [
      "<class 'pandas.core.frame.DataFrame'>\n",
      "RangeIndex: 662 entries, 0 to 661\n",
      "Data columns (total 6 columns):\n",
      " #   Column          Non-Null Count  Dtype \n",
      "---  ------          --------------  ----- \n",
      " 0   Startup         662 non-null    object\n",
      " 1   Product         656 non-null    object\n",
      " 2   Funding         448 non-null    object\n",
      " 3   Event           662 non-null    object\n",
      " 4   Result          662 non-null    object\n",
      " 5   OperatingState  662 non-null    object\n",
      "dtypes: object(6)\n",
      "memory usage: 31.2+ KB\n"
     ]
    }
   ],
   "source": [
    "data.info()"
   ]
  },
  {
   "cell_type": "markdown",
   "metadata": {},
   "source": [
    "Funding is a numeric value but it is of type object, hence covert to numeric"
   ]
  },
  {
   "cell_type": "markdown",
   "metadata": {},
   "source": [
    "##### • Check for null values in the attributes."
   ]
  },
  {
   "cell_type": "code",
   "execution_count": 6,
   "metadata": {
    "scrolled": true
   },
   "outputs": [
    {
     "data": {
      "text/html": [
       "<div>\n",
       "<style scoped>\n",
       "    .dataframe tbody tr th:only-of-type {\n",
       "        vertical-align: middle;\n",
       "    }\n",
       "\n",
       "    .dataframe tbody tr th {\n",
       "        vertical-align: top;\n",
       "    }\n",
       "\n",
       "    .dataframe thead th {\n",
       "        text-align: right;\n",
       "    }\n",
       "</style>\n",
       "<table border=\"1\" class=\"dataframe\">\n",
       "  <thead>\n",
       "    <tr style=\"text-align: right;\">\n",
       "      <th></th>\n",
       "      <th>Total</th>\n",
       "      <th>Percent</th>\n",
       "    </tr>\n",
       "  </thead>\n",
       "  <tbody>\n",
       "    <tr>\n",
       "      <th>Funding</th>\n",
       "      <td>214</td>\n",
       "      <td>0.323263</td>\n",
       "    </tr>\n",
       "    <tr>\n",
       "      <th>Product</th>\n",
       "      <td>6</td>\n",
       "      <td>0.009063</td>\n",
       "    </tr>\n",
       "    <tr>\n",
       "      <th>Startup</th>\n",
       "      <td>0</td>\n",
       "      <td>0.000000</td>\n",
       "    </tr>\n",
       "    <tr>\n",
       "      <th>Event</th>\n",
       "      <td>0</td>\n",
       "      <td>0.000000</td>\n",
       "    </tr>\n",
       "    <tr>\n",
       "      <th>Result</th>\n",
       "      <td>0</td>\n",
       "      <td>0.000000</td>\n",
       "    </tr>\n",
       "    <tr>\n",
       "      <th>OperatingState</th>\n",
       "      <td>0</td>\n",
       "      <td>0.000000</td>\n",
       "    </tr>\n",
       "  </tbody>\n",
       "</table>\n",
       "</div>"
      ],
      "text/plain": [
       "                Total   Percent\n",
       "Funding           214  0.323263\n",
       "Product             6  0.009063\n",
       "Startup             0  0.000000\n",
       "Event               0  0.000000\n",
       "Result              0  0.000000\n",
       "OperatingState      0  0.000000"
      ]
     },
     "execution_count": 6,
     "metadata": {},
     "output_type": "execute_result"
    }
   ],
   "source": [
    "def missing_check(data):\n",
    "    \n",
    "    total = data.isnull().sum().sort_values(ascending=False)                           # total number of null values\n",
    "    \n",
    "    percent = (data.isnull().sum()/data.isnull().count()).sort_values(ascending=False)  # percentage of values that are null\n",
    "    \n",
    "    missing_data = pd.concat([total, percent], axis=1, keys=['Total', 'Percent'])            # putting the above two together\n",
    "    \n",
    "    return missing_data                                                                      # return the dataframe\n",
    "\n",
    "missing_check(data)"
   ]
  },
  {
   "cell_type": "markdown",
   "metadata": {},
   "source": [
    "Funding attribute has nearly 32 percentage of null values and Product has 6 null values. We impute the missing values"
   ]
  },
  {
   "cell_type": "code",
   "execution_count": 7,
   "metadata": {},
   "outputs": [
    {
     "data": {
      "text/plain": [
       "dataxu.com           1\n",
       "easypaint.com        1\n",
       "ansa.com             1\n",
       "videosurf.com        1\n",
       "getkisi.com          1\n",
       "                    ..\n",
       "tracks.by            1\n",
       "greenbits.com        1\n",
       "artveoli.com         1\n",
       "high-mobility.com    1\n",
       "avawomen.com         1\n",
       "Name: Product, Length: 656, dtype: int64"
      ]
     },
     "execution_count": 7,
     "metadata": {},
     "output_type": "execute_result"
    }
   ],
   "source": [
    "data['Product'].value_counts()"
   ]
  },
  {
   "cell_type": "code",
   "execution_count": 8,
   "metadata": {},
   "outputs": [
    {
     "data": {
      "text/plain": [
       "Insttant            1\n",
       "productboard        1\n",
       "Arctuition          1\n",
       "Katalyst Network    1\n",
       "Enigma              1\n",
       "                   ..\n",
       "Getaround           1\n",
       "Scrumpt             1\n",
       "MedRepublic, Inc    1\n",
       "Rexly               1\n",
       "mEgo                1\n",
       "Name: Startup, Length: 662, dtype: int64"
      ]
     },
     "execution_count": 8,
     "metadata": {},
     "output_type": "execute_result"
    }
   ],
   "source": [
    "data['Startup'].value_counts()"
   ]
  },
  {
   "cell_type": "code",
   "execution_count": 9,
   "metadata": {},
   "outputs": [
    {
     "data": {
      "text/plain": [
       "TC50 2008                    52\n",
       "TC50 2009                    50\n",
       "TC40 2007                    40\n",
       "Disrupt NYC 2011             32\n",
       "Disrupt SF 2011              31\n",
       "Disrupt SF 2013              31\n",
       "Disrupt NYC 2013             31\n",
       "Disrupt NYC 2012             30\n",
       "Disrupt SF 2012              30\n",
       "Disrupt SF 2014              28\n",
       "Disrupt SF 2015              27\n",
       "Disrupt NYC 2014             27\n",
       "Disrupt NY 2015              26\n",
       "Disrupt SF 2016              26\n",
       "Disrupt SF 2010              26\n",
       "Disrupt NY 2016              22\n",
       "Disrupt NYC 2010             22\n",
       "Disrupt Beijing 2011         18\n",
       "Disrupt London 2015          15\n",
       "Disrupt EU 2014              15\n",
       "Hardware Battlefield 2015    15\n",
       "Disrupt EU 2013              15\n",
       "Hardware Battlefield 2014    14\n",
       "Disrupt London 2016          13\n",
       "-                            13\n",
       "Hardware Battlefield 2016    13\n",
       "Name: Event, dtype: int64"
      ]
     },
     "execution_count": 9,
     "metadata": {},
     "output_type": "execute_result"
    }
   ],
   "source": [
    "data['Event'].value_counts()"
   ]
  },
  {
   "cell_type": "code",
   "execution_count": 10,
   "metadata": {},
   "outputs": [
    {
     "data": {
      "text/plain": [
       "Contestant         488\n",
       "Finalist            84\n",
       "Audience choice     41\n",
       "Winner              26\n",
       "Runner up           23\n",
       "Name: Result, dtype: int64"
      ]
     },
     "execution_count": 10,
     "metadata": {},
     "output_type": "execute_result"
    }
   ],
   "source": [
    "data['Result'].value_counts()"
   ]
  },
  {
   "cell_type": "code",
   "execution_count": 11,
   "metadata": {},
   "outputs": [
    {
     "data": {
      "text/plain": [
       "Operating    465\n",
       "Closed       106\n",
       "Acquired      86\n",
       "Ipo            5\n",
       "Name: OperatingState, dtype: int64"
      ]
     },
     "execution_count": 11,
     "metadata": {},
     "output_type": "execute_result"
    }
   ],
   "source": [
    "data['OperatingState'].value_counts()"
   ]
  },
  {
   "cell_type": "code",
   "execution_count": 12,
   "metadata": {},
   "outputs": [],
   "source": [
    "# replace '-' values in Event \n",
    "\n",
    "data['Event'] = data['Event'].replace('-', '0', regex=True)\n",
    "\n"
   ]
  },
  {
   "cell_type": "markdown",
   "metadata": {},
   "source": [
    "#### 3. Data preprocessing & visualisation:\n",
    "    "
   ]
  },
  {
   "cell_type": "code",
   "execution_count": 13,
   "metadata": {},
   "outputs": [],
   "source": [
    "# drop rows with Funding value null \n",
    "# Instead of dropping we have imputed missing values with 0\n",
    "\n",
    "data.Funding.fillna( 0 , inplace=True)"
   ]
  },
  {
   "cell_type": "markdown",
   "metadata": {},
   "source": [
    "#### • Convert the ‘Funding’ features to a numerical value."
   ]
  },
  {
   "cell_type": "code",
   "execution_count": 14,
   "metadata": {},
   "outputs": [],
   "source": [
    "# remove the character $ from the string\n",
    "\n",
    "data['Funding_Clean'] = data['Funding'].replace('\\$', '', regex=True)\n",
    "\n",
    "# convert K to 1000 , M = 1000000 and B = 1000000000\n",
    "\n",
    "def value_to_float(x):\n",
    "\n",
    "    if type(x) == float or type(x) == int:\n",
    "        return x\n",
    "    if 'K' in x:\n",
    "        if len(x) > 1:\n",
    "            return float(x.replace('K', '')) * 1000\n",
    "        return 1000.0\n",
    "    if 'M' in x:\n",
    "        if len(x) > 1:\n",
    "            return float(x.replace('M', '')) * 1000000\n",
    "        return 1000000.0\n",
    "    if 'B' in x:\n",
    "        return float(x.replace('B', '')) * 1000000000\n",
    "    return 0.0\n",
    "    \n",
    "data['Funding_Clean'] = data['Funding_Clean'].apply(value_to_float)\n"
   ]
  },
  {
   "cell_type": "markdown",
   "metadata": {},
   "source": [
    "#### • Plot box plot for funds in million."
   ]
  },
  {
   "cell_type": "code",
   "execution_count": 15,
   "metadata": {},
   "outputs": [
    {
     "data": {
      "text/plain": [
       "<matplotlib.axes._subplots.AxesSubplot at 0x7f94e0d23610>"
      ]
     },
     "execution_count": 15,
     "metadata": {},
     "output_type": "execute_result"
    },
    {
     "data": {
      "image/png": "[encoded data removed]",
      "text/plain": [
       "<Figure size 432x288 with 1 Axes>"
      ]
     },
     "metadata": {
      "needs_background": "light"
     },
     "output_type": "display_data"
    }
   ],
   "source": [
    "# Converting Funding value to Million unit\n",
    "\n",
    "data['Funding_Million'] = data['Funding_Clean']/1000000\n",
    "\n",
    "# Plotting box plot for funds in million\n",
    "\n",
    "data.Funding_Million.plot.box(grid=True)"
   ]
  },
  {
   "cell_type": "markdown",
   "metadata": {},
   "source": [
    "• Get the lower fence from the box plot."
   ]
  },
  {
   "cell_type": "code",
   "execution_count": 16,
   "metadata": {},
   "outputs": [
    {
     "name": "stdout",
     "output_type": "stream",
     "text": [
      "Lower fence: -6.5625\n",
      "Upper fence: 10.9375\n"
     ]
    }
   ],
   "source": [
    "# Finding the lower Quartile value\n",
    "\n",
    "Q1 = data['Funding_Million'].quantile(0.25)\n",
    "Q3 = data['Funding_Million'].quantile(0.75)\n",
    "IQR = Q3-Q1\n",
    "Lower_fence = Q1 - (1.5 * IQR)\n",
    "Upper_fence = Q3 + (1.5 * IQR)\n",
    "\n",
    "print('Lower fence:',Lower_fence )\n",
    "print('Upper fence:',Upper_fence)"
   ]
  },
  {
   "cell_type": "markdown",
   "metadata": {},
   "source": [
    "• Check number of outliers greater than upper fence."
   ]
  },
  {
   "cell_type": "code",
   "execution_count": 17,
   "metadata": {},
   "outputs": [
    {
     "name": "stdout",
     "output_type": "stream",
     "text": [
      "Outlier greater than upper fence in the dataset is 98\n"
     ]
    }
   ],
   "source": [
    "#Calculate outliers greater than upper fence\n",
    "\n",
    "outlier =[]\n",
    "for x in data['Funding_Million']:\n",
    "    if ((x > Upper_fence)):\n",
    "         outlier.append(x)\n",
    "        \n",
    "print('Outlier greater than upper fence in the dataset is', len(outlier))"
   ]
  },
  {
   "cell_type": "markdown",
   "metadata": {},
   "source": [
    "• Drop the values that are greater than upper fence."
   ]
  },
  {
   "cell_type": "code",
   "execution_count": 18,
   "metadata": {},
   "outputs": [],
   "source": [
    "data = data[~(data['Funding_Million'] > Upper_fence)]"
   ]
  },
  {
   "cell_type": "code",
   "execution_count": 19,
   "metadata": {},
   "outputs": [
    {
     "data": {
      "text/html": [
       "<div>\n",
       "<style scoped>\n",
       "    .dataframe tbody tr th:only-of-type {\n",
       "        vertical-align: middle;\n",
       "    }\n",
       "\n",
       "    .dataframe tbody tr th {\n",
       "        vertical-align: top;\n",
       "    }\n",
       "\n",
       "    .dataframe thead th {\n",
       "        text-align: right;\n",
       "    }\n",
       "</style>\n",
       "<table border=\"1\" class=\"dataframe\">\n",
       "  <thead>\n",
       "    <tr style=\"text-align: right;\">\n",
       "      <th></th>\n",
       "      <th>Startup</th>\n",
       "      <th>Product</th>\n",
       "      <th>Funding</th>\n",
       "      <th>Event</th>\n",
       "      <th>Result</th>\n",
       "      <th>OperatingState</th>\n",
       "      <th>Funding_Clean</th>\n",
       "      <th>Funding_Million</th>\n",
       "    </tr>\n",
       "  </thead>\n",
       "  <tbody>\n",
       "    <tr>\n",
       "      <th>0</th>\n",
       "      <td>2600Hz</td>\n",
       "      <td>2600hz.com</td>\n",
       "      <td>0</td>\n",
       "      <td>Disrupt SF 2013</td>\n",
       "      <td>Contestant</td>\n",
       "      <td>Operating</td>\n",
       "      <td>0.0</td>\n",
       "      <td>0.00</td>\n",
       "    </tr>\n",
       "    <tr>\n",
       "      <th>1</th>\n",
       "      <td>3DLT</td>\n",
       "      <td>3dlt.com</td>\n",
       "      <td>$630K</td>\n",
       "      <td>Disrupt NYC 2013</td>\n",
       "      <td>Contestant</td>\n",
       "      <td>Closed</td>\n",
       "      <td>630000.0</td>\n",
       "      <td>0.63</td>\n",
       "    </tr>\n",
       "    <tr>\n",
       "      <th>2</th>\n",
       "      <td>3DPrinterOS</td>\n",
       "      <td>3dprinteros.com</td>\n",
       "      <td>0</td>\n",
       "      <td>Disrupt SF 2016</td>\n",
       "      <td>Contestant</td>\n",
       "      <td>Operating</td>\n",
       "      <td>0.0</td>\n",
       "      <td>0.00</td>\n",
       "    </tr>\n",
       "    <tr>\n",
       "      <th>3</th>\n",
       "      <td>3Dprintler</td>\n",
       "      <td>3dprintler.com</td>\n",
       "      <td>$1M</td>\n",
       "      <td>Disrupt NY 2016</td>\n",
       "      <td>Audience choice</td>\n",
       "      <td>Operating</td>\n",
       "      <td>1000000.0</td>\n",
       "      <td>1.00</td>\n",
       "    </tr>\n",
       "    <tr>\n",
       "      <th>4</th>\n",
       "      <td>42 Technologies</td>\n",
       "      <td>42technologies.com</td>\n",
       "      <td>0</td>\n",
       "      <td>Disrupt NYC 2013</td>\n",
       "      <td>Contestant</td>\n",
       "      <td>Operating</td>\n",
       "      <td>0.0</td>\n",
       "      <td>0.00</td>\n",
       "    </tr>\n",
       "    <tr>\n",
       "      <th>...</th>\n",
       "      <td>...</td>\n",
       "      <td>...</td>\n",
       "      <td>...</td>\n",
       "      <td>...</td>\n",
       "      <td>...</td>\n",
       "      <td>...</td>\n",
       "      <td>...</td>\n",
       "      <td>...</td>\n",
       "    </tr>\n",
       "    <tr>\n",
       "      <th>653</th>\n",
       "      <td>ZAP!</td>\n",
       "      <td>zapreklam.com/</td>\n",
       "      <td>0</td>\n",
       "      <td>Disrupt EU 2014</td>\n",
       "      <td>Audience choice</td>\n",
       "      <td>Operating</td>\n",
       "      <td>0.0</td>\n",
       "      <td>0.00</td>\n",
       "    </tr>\n",
       "    <tr>\n",
       "      <th>655</th>\n",
       "      <td>Zello</td>\n",
       "      <td>zello.com</td>\n",
       "      <td>0</td>\n",
       "      <td>TC40 2007</td>\n",
       "      <td>Contestant</td>\n",
       "      <td>Operating</td>\n",
       "      <td>0.0</td>\n",
       "      <td>0.00</td>\n",
       "    </tr>\n",
       "    <tr>\n",
       "      <th>657</th>\n",
       "      <td>Zivity</td>\n",
       "      <td>zivity.com</td>\n",
       "      <td>$8M</td>\n",
       "      <td>TC40 2007</td>\n",
       "      <td>Contestant</td>\n",
       "      <td>Operating</td>\n",
       "      <td>8000000.0</td>\n",
       "      <td>8.00</td>\n",
       "    </tr>\n",
       "    <tr>\n",
       "      <th>658</th>\n",
       "      <td>Zmorph</td>\n",
       "      <td>zmorph3d.com</td>\n",
       "      <td>$1M</td>\n",
       "      <td>0</td>\n",
       "      <td>Audience choice</td>\n",
       "      <td>Operating</td>\n",
       "      <td>1000000.0</td>\n",
       "      <td>1.00</td>\n",
       "    </tr>\n",
       "    <tr>\n",
       "      <th>660</th>\n",
       "      <td>Zula</td>\n",
       "      <td>zulaapp.com</td>\n",
       "      <td>$3.4M</td>\n",
       "      <td>Disrupt SF 2013</td>\n",
       "      <td>Audience choice</td>\n",
       "      <td>Operating</td>\n",
       "      <td>3400000.0</td>\n",
       "      <td>3.40</td>\n",
       "    </tr>\n",
       "  </tbody>\n",
       "</table>\n",
       "<p>564 rows × 8 columns</p>\n",
       "</div>"
      ],
      "text/plain": [
       "             Startup             Product Funding             Event  \\\n",
       "0             2600Hz          2600hz.com       0   Disrupt SF 2013   \n",
       "1               3DLT            3dlt.com   $630K  Disrupt NYC 2013   \n",
       "2        3DPrinterOS     3dprinteros.com       0   Disrupt SF 2016   \n",
       "3         3Dprintler      3dprintler.com     $1M   Disrupt NY 2016   \n",
       "4    42 Technologies  42technologies.com       0  Disrupt NYC 2013   \n",
       "..               ...                 ...     ...               ...   \n",
       "653             ZAP!      zapreklam.com/       0   Disrupt EU 2014   \n",
       "655            Zello           zello.com       0         TC40 2007   \n",
       "657           Zivity          zivity.com     $8M         TC40 2007   \n",
       "658           Zmorph        zmorph3d.com     $1M                 0   \n",
       "660             Zula         zulaapp.com   $3.4M   Disrupt SF 2013   \n",
       "\n",
       "              Result OperatingState  Funding_Clean  Funding_Million  \n",
       "0         Contestant      Operating            0.0             0.00  \n",
       "1         Contestant         Closed       630000.0             0.63  \n",
       "2         Contestant      Operating            0.0             0.00  \n",
       "3    Audience choice      Operating      1000000.0             1.00  \n",
       "4         Contestant      Operating            0.0             0.00  \n",
       "..               ...            ...            ...              ...  \n",
       "653  Audience choice      Operating            0.0             0.00  \n",
       "655       Contestant      Operating            0.0             0.00  \n",
       "657       Contestant      Operating      8000000.0             8.00  \n",
       "658  Audience choice      Operating      1000000.0             1.00  \n",
       "660  Audience choice      Operating      3400000.0             3.40  \n",
       "\n",
       "[564 rows x 8 columns]"
      ]
     },
     "execution_count": 19,
     "metadata": {},
     "output_type": "execute_result"
    }
   ],
   "source": [
    "data"
   ]
  },
  {
   "cell_type": "markdown",
   "metadata": {},
   "source": [
    "• Plot the box plot after dropping the values."
   ]
  },
  {
   "cell_type": "code",
   "execution_count": 20,
   "metadata": {},
   "outputs": [
    {
     "data": {
      "image/png": "[encoded data removed]",
      "text/plain": [
       "<Figure size 432x288 with 1 Axes>"
      ]
     },
     "metadata": {
      "needs_background": "light"
     },
     "output_type": "display_data"
    }
   ],
   "source": [
    "bx = sns.boxplot(data['Funding_Million'] )"
   ]
  },
  {
   "cell_type": "markdown",
   "metadata": {},
   "source": [
    "• Check frequency of the OperatingState features classes."
   ]
  },
  {
   "cell_type": "code",
   "execution_count": 21,
   "metadata": {},
   "outputs": [
    {
     "data": {
      "text/plain": [
       "Operating    397\n",
       "Closed       102\n",
       "Acquired      64\n",
       "Ipo            1\n",
       "Name: OperatingState, dtype: int64"
      ]
     },
     "execution_count": 21,
     "metadata": {},
     "output_type": "execute_result"
    }
   ],
   "source": [
    "data['OperatingState'].value_counts() "
   ]
  },
  {
   "cell_type": "markdown",
   "metadata": {},
   "source": [
    "• Plot a distribution plot for Funds in million."
   ]
  },
  {
   "cell_type": "code",
   "execution_count": 22,
   "metadata": {},
   "outputs": [
    {
     "data": {
      "text/plain": [
       "<seaborn.axisgrid.FacetGrid at 0x7f94e0ec18b0>"
      ]
     },
     "execution_count": 22,
     "metadata": {},
     "output_type": "execute_result"
    },
    {
     "data": {
      "image/png": "[encoded data removed]",
      "text/plain": [
       "<Figure size 360x360 with 1 Axes>"
      ]
     },
     "metadata": {
      "needs_background": "light"
     },
     "output_type": "display_data"
    }
   ],
   "source": [
    "# plot distribution of fund using distplot\n",
    "\n",
    "df = data['Funding_Million']\n",
    "sns.displot(df ,kind = 'kde')"
   ]
  },
  {
   "cell_type": "markdown",
   "metadata": {},
   "source": [
    "• Plot distribution plots for companies still operating and companies that closed."
   ]
  },
  {
   "cell_type": "code",
   "execution_count": 23,
   "metadata": {},
   "outputs": [
    {
     "data": {
      "text/plain": [
       "<seaborn.axisgrid.FacetGrid at 0x7f94e0f8be80>"
      ]
     },
     "execution_count": 23,
     "metadata": {},
     "output_type": "execute_result"
    },
    {
     "data": {
      "image/png": "[encoded data removed]",
      "text/plain": [
       "<Figure size 360x360 with 1 Axes>"
      ]
     },
     "metadata": {
      "needs_background": "light"
     },
     "output_type": "display_data"
    },
    {
     "data": {
      "image/png": "[encoded data removed]",
      "text/plain": [
       "<Figure size 360x360 with 1 Axes>"
      ]
     },
     "metadata": {
      "needs_background": "light"
     },
     "output_type": "display_data"
    }
   ],
   "source": [
    "# Distribution plot for companies still operating and companies that closed.\n",
    "\n",
    "mask_operating = data['OperatingState'].values == 'Operating'\n",
    "\n",
    "\n",
    "mask_closed = data['OperatingState'].values == 'Closed'\n",
    "\n",
    "\n",
    "# Distribution plot for Operating companies\n",
    "ax = sns.displot(mask_operating , kind ='kde')\n",
    "ax.set(title ='OperatingState Company')\n",
    "\n",
    "# Distribution plot for Closed companies\n",
    "ax1 = sns.displot(mask_closed , kind ='kde')\n",
    "ax1.set(title ='Closed State Company')"
   ]
  },
  {
   "cell_type": "markdown",
   "metadata": {},
   "source": [
    "#### 4. Statistical analysis:"
   ]
  },
  {
   "cell_type": "markdown",
   "metadata": {},
   "source": [
    "##### • Is there any significant difference between Funds raised by companies that are still operating vs companies that closed down? Write the null hypothesis and alternative hypothesis. Test for significance and conclusion"
   ]
  },
  {
   "cell_type": "markdown",
   "metadata": {},
   "source": [
    "The null hypothesis is that there is no significant difference between Funds raised by companies that are still operating vs companies that closed down. \n",
    "\n",
    "This is stated as\n",
    "\n",
    "H0: Fund raised by Closed = Fund raised by Operating\n",
    "\n",
    "The alternative hypothesis is the opposite of the null hypothesis. The alternative hypothesis is that there is a significance difference. This is stated as\n",
    "\n",
    "H1 : Fund raised by Closed not equal to Fund raised by Operating"
   ]
  },
  {
   "cell_type": "code",
   "execution_count": 24,
   "metadata": {},
   "outputs": [
    {
     "name": "stdout",
     "output_type": "stream",
     "text": [
      "Funding_Clean      1.538885e+06\n",
      "Funding_Million    1.538885e+00\n",
      "dtype: float64\n",
      "Funding_Clean      1.055056e+06\n",
      "Funding_Million    1.055056e+00\n",
      "dtype: float64\n"
     ]
    }
   ],
   "source": [
    "# H0: Mean Fund raised by operating companies and closed companies\n",
    "\n",
    "operating_mean = data[mask_operating].mean()  \n",
    "Closed_mean = data[mask_closed].mean()\n",
    "\n",
    "print(operating_mean)\n",
    "print(Closed_mean)"
   ]
  },
  {
   "cell_type": "code",
   "execution_count": 25,
   "metadata": {},
   "outputs": [],
   "source": [
    "# create groups\n",
    "\n",
    "group1 = data[mask_operating]\n",
    "df = group1['Funding_Million']\n",
    "\n",
    "group2 = data[mask_closed]\n",
    "dd = group2['Funding_Million']"
   ]
  },
  {
   "cell_type": "code",
   "execution_count": 26,
   "metadata": {},
   "outputs": [
    {
     "name": "stdout",
     "output_type": "stream",
     "text": [
      "1.8794620145925491 0.06076626574517832\n"
     ]
    }
   ],
   "source": [
    "# two-sample t-test\n",
    "# null hypothesis: the two groups have the same mean\n",
    "# this test assumes the two groups have the same variance...\n",
    "# (can be checked with tests for equal variance - Levene)\n",
    "\n",
    "t_statistic, p_value = ttest_ind(df, dd)\n",
    "print(t_statistic, p_value)"
   ]
  },
  {
   "cell_type": "code",
   "execution_count": 27,
   "metadata": {},
   "outputs": [
    {
     "name": "stdout",
     "output_type": "stream",
     "text": [
      "two-sample t-test p-value= 0.06076626574517832\n"
     ]
    }
   ],
   "source": [
    "# they have the same mean at the 5% significance level\n",
    "print (\"two-sample t-test p-value=\", p_value)"
   ]
  },
  {
   "cell_type": "markdown",
   "metadata": {},
   "source": [
    "Failed to Reject the null hypothesis , since p-value is greater than the level of significance 0.05."
   ]
  },
  {
   "cell_type": "markdown",
   "metadata": {},
   "source": [
    "###### • Check frequency distribution of Result variable."
   ]
  },
  {
   "cell_type": "code",
   "execution_count": 28,
   "metadata": {},
   "outputs": [
    {
     "name": "stdout",
     "output_type": "stream",
     "text": [
      "Contestant         437\n",
      "Finalist            62\n",
      "Audience choice     36\n",
      "Runner up           15\n",
      "Winner              14\n",
      "Name: Result, dtype: int64\n"
     ]
    },
    {
     "data": {
      "text/plain": [
       "<matplotlib.axes._subplots.AxesSubplot at 0x7f94e1969d60>"
      ]
     },
     "execution_count": 28,
     "metadata": {},
     "output_type": "execute_result"
    },
    {
     "data": {
      "image/png": "[encoded data removed]",
      "text/plain": [
       "<Figure size 1080x360 with 1 Axes>"
      ]
     },
     "metadata": {
      "needs_background": "light"
     },
     "output_type": "display_data"
    }
   ],
   "source": [
    "ad = data.Result.value_counts()\n",
    "print(ad)\n",
    "\n",
    "# frequency distribution plot of Result \n",
    "\n",
    "data.Result.value_counts().nlargest(10).plot(kind='bar', figsize=(15,5))\n"
   ]
  },
  {
   "cell_type": "markdown",
   "metadata": {},
   "source": [
    "• Calculate percentage of winners that are still operating and percentage of contestants that are still operating"
   ]
  },
  {
   "cell_type": "code",
   "execution_count": 29,
   "metadata": {},
   "outputs": [
    {
     "data": {
      "text/html": [
       "<div>\n",
       "<style scoped>\n",
       "    .dataframe tbody tr th:only-of-type {\n",
       "        vertical-align: middle;\n",
       "    }\n",
       "\n",
       "    .dataframe tbody tr th {\n",
       "        vertical-align: top;\n",
       "    }\n",
       "\n",
       "    .dataframe thead th {\n",
       "        text-align: right;\n",
       "    }\n",
       "</style>\n",
       "<table border=\"1\" class=\"dataframe\">\n",
       "  <thead>\n",
       "    <tr style=\"text-align: right;\">\n",
       "      <th></th>\n",
       "      <th>OperatingState</th>\n",
       "      <th>Result</th>\n",
       "      <th>0</th>\n",
       "    </tr>\n",
       "  </thead>\n",
       "  <tbody>\n",
       "    <tr>\n",
       "      <th>0</th>\n",
       "      <td>Operating</td>\n",
       "      <td>Contestant</td>\n",
       "      <td>0.530142</td>\n",
       "    </tr>\n",
       "    <tr>\n",
       "      <th>1</th>\n",
       "      <td>Closed</td>\n",
       "      <td>Contestant</td>\n",
       "      <td>0.154255</td>\n",
       "    </tr>\n",
       "    <tr>\n",
       "      <th>2</th>\n",
       "      <td>Acquired</td>\n",
       "      <td>Contestant</td>\n",
       "      <td>0.088652</td>\n",
       "    </tr>\n",
       "    <tr>\n",
       "      <th>3</th>\n",
       "      <td>Operating</td>\n",
       "      <td>Finalist</td>\n",
       "      <td>0.083333</td>\n",
       "    </tr>\n",
       "    <tr>\n",
       "      <th>4</th>\n",
       "      <td>Operating</td>\n",
       "      <td>Audience choice</td>\n",
       "      <td>0.047872</td>\n",
       "    </tr>\n",
       "    <tr>\n",
       "      <th>5</th>\n",
       "      <td>Operating</td>\n",
       "      <td>Runner up</td>\n",
       "      <td>0.024823</td>\n",
       "    </tr>\n",
       "    <tr>\n",
       "      <th>6</th>\n",
       "      <td>Operating</td>\n",
       "      <td>Winner</td>\n",
       "      <td>0.017730</td>\n",
       "    </tr>\n",
       "    <tr>\n",
       "      <th>7</th>\n",
       "      <td>Acquired</td>\n",
       "      <td>Finalist</td>\n",
       "      <td>0.015957</td>\n",
       "    </tr>\n",
       "    <tr>\n",
       "      <th>8</th>\n",
       "      <td>Closed</td>\n",
       "      <td>Audience choice</td>\n",
       "      <td>0.015957</td>\n",
       "    </tr>\n",
       "    <tr>\n",
       "      <th>9</th>\n",
       "      <td>Closed</td>\n",
       "      <td>Finalist</td>\n",
       "      <td>0.010638</td>\n",
       "    </tr>\n",
       "    <tr>\n",
       "      <th>10</th>\n",
       "      <td>Acquired</td>\n",
       "      <td>Winner</td>\n",
       "      <td>0.007092</td>\n",
       "    </tr>\n",
       "    <tr>\n",
       "      <th>11</th>\n",
       "      <td>Acquired</td>\n",
       "      <td>Runner up</td>\n",
       "      <td>0.001773</td>\n",
       "    </tr>\n",
       "    <tr>\n",
       "      <th>12</th>\n",
       "      <td>Ipo</td>\n",
       "      <td>Contestant</td>\n",
       "      <td>0.001773</td>\n",
       "    </tr>\n",
       "  </tbody>\n",
       "</table>\n",
       "</div>"
      ],
      "text/plain": [
       "   OperatingState           Result         0\n",
       "0       Operating       Contestant  0.530142\n",
       "1          Closed       Contestant  0.154255\n",
       "2        Acquired       Contestant  0.088652\n",
       "3       Operating         Finalist  0.083333\n",
       "4       Operating  Audience choice  0.047872\n",
       "5       Operating        Runner up  0.024823\n",
       "6       Operating           Winner  0.017730\n",
       "7        Acquired         Finalist  0.015957\n",
       "8          Closed  Audience choice  0.015957\n",
       "9          Closed         Finalist  0.010638\n",
       "10       Acquired           Winner  0.007092\n",
       "11       Acquired        Runner up  0.001773\n",
       "12            Ipo       Contestant  0.001773"
      ]
     },
     "execution_count": 29,
     "metadata": {},
     "output_type": "execute_result"
    }
   ],
   "source": [
    "s = data[['OperatingState','Result']].value_counts(normalize=True).reset_index()\n",
    "s"
   ]
  },
  {
   "cell_type": "markdown",
   "metadata": {},
   "source": [
    "* percentage of winners that are still operating 0.017730 = 1.7%\n",
    "* percentage of contestants that are still operating 0.530142 = 53.01% \n"
   ]
  },
  {
   "cell_type": "markdown",
   "metadata": {},
   "source": [
    "#### Hypothesis comparing the proportion of companies that are operating between winners and contestants: Write the null hypothesis and alternative hypothesis. Test for significance and conclusion"
   ]
  },
  {
   "cell_type": "code",
   "execution_count": 30,
   "metadata": {},
   "outputs": [
    {
     "name": "stdout",
     "output_type": "stream",
     "text": [
      "[14, 437]\n",
      "[10, 299]\n"
     ]
    }
   ],
   "source": [
    "# null hypothesis can be stated as operating contestants proportion <  operating winners\n",
    "# hence alternative hypothesis can be states as operating contestants proportion >=  operating winners\n",
    "\n",
    "op = data[['OperatingState','Result']].value_counts().reset_index()\n",
    "\n",
    "op_Contestant = op.iloc[0,2]\n",
    "op_Winner = op.iloc[6,2]\n",
    "\n",
    "n_winners = data[data.Result =='Winner'].shape[0]\n",
    "n_Contestants = data[data.Result =='Contestant'].shape[0]\n",
    "print([n_winners,n_Contestants])\n",
    "print([op_Winner , op_Contestant])"
   ]
  },
  {
   "cell_type": "code",
   "execution_count": 31,
   "metadata": {},
   "outputs": [
    {
     "name": "stdout",
     "output_type": "stream",
     "text": [
      "With a p-value of 0.8115 the difference is not significant. aka |We fail to reject the null|\n"
     ]
    }
   ],
   "source": [
    "# The proportions are different but are they statistically significant?\n",
    "\n",
    "from statsmodels.stats.proportion import proportions_ztest\n",
    "\n",
    "stat, pval = proportions_ztest([ op_Contestant,op_Winner ],[n_Contestants , n_winners])\n",
    "\n",
    "if pval < 0.05:\n",
    "    print(f'With a p-value of {round(pval,4)} the difference is significant. aka |We reject the null|')\n",
    "else:\n",
    "    print(f'With a p-value of {round(pval,4)} the difference is not significant. aka |We fail to reject the null|')\n"
   ]
  },
  {
   "cell_type": "markdown",
   "metadata": {},
   "source": [
    "• Check distribution of the Event variable."
   ]
  },
  {
   "cell_type": "code",
   "execution_count": 32,
   "metadata": {},
   "outputs": [
    {
     "data": {
      "text/plain": [
       "<seaborn.axisgrid.FacetGrid at 0x7f94e0d086a0>"
      ]
     },
     "execution_count": 32,
     "metadata": {},
     "output_type": "execute_result"
    },
    {
     "data": {
      "image/png": "[encoded data removed]",
      "text/plain": [
       "<Figure size 360x360 with 1 Axes>"
      ]
     },
     "metadata": {
      "needs_background": "light"
     },
     "output_type": "display_data"
    }
   ],
   "source": [
    "# check the frequency \n",
    "\n",
    "ds = data.Event.value_counts()\n",
    "\n",
    "#plot for frequency distribution of the Event \n",
    "\n",
    "# data.Result.value_counts().nlargest().plot(kind='bar', figsize=(15,5))\n",
    "\n",
    "ax1 = sns.displot(ds , kind ='hist')\n",
    "ax1.set(title ='Event Frequency Distribution') \n"
   ]
  },
  {
   "cell_type": "markdown",
   "metadata": {},
   "source": [
    "• Select only the Event that has disrupt keyword from 2013 onwards."
   ]
  },
  {
   "cell_type": "code",
   "execution_count": 33,
   "metadata": {},
   "outputs": [
    {
     "data": {
      "text/html": [
       "<div>\n",
       "<style scoped>\n",
       "    .dataframe tbody tr th:only-of-type {\n",
       "        vertical-align: middle;\n",
       "    }\n",
       "\n",
       "    .dataframe tbody tr th {\n",
       "        vertical-align: top;\n",
       "    }\n",
       "\n",
       "    .dataframe thead th {\n",
       "        text-align: right;\n",
       "    }\n",
       "</style>\n",
       "<table border=\"1\" class=\"dataframe\">\n",
       "  <thead>\n",
       "    <tr style=\"text-align: right;\">\n",
       "      <th></th>\n",
       "      <th>Startup</th>\n",
       "      <th>Product</th>\n",
       "      <th>Funding</th>\n",
       "      <th>Event</th>\n",
       "      <th>Result</th>\n",
       "      <th>OperatingState</th>\n",
       "      <th>Funding_Clean</th>\n",
       "      <th>Funding_Million</th>\n",
       "      <th>year</th>\n",
       "    </tr>\n",
       "  </thead>\n",
       "  <tbody>\n",
       "    <tr>\n",
       "      <th>0</th>\n",
       "      <td>2600Hz</td>\n",
       "      <td>2600hz.com</td>\n",
       "      <td>0</td>\n",
       "      <td>Disrupt SF 2013</td>\n",
       "      <td>Contestant</td>\n",
       "      <td>Operating</td>\n",
       "      <td>0.0</td>\n",
       "      <td>0.000</td>\n",
       "      <td>2013</td>\n",
       "    </tr>\n",
       "    <tr>\n",
       "      <th>1</th>\n",
       "      <td>3DLT</td>\n",
       "      <td>3dlt.com</td>\n",
       "      <td>$630K</td>\n",
       "      <td>Disrupt NYC 2013</td>\n",
       "      <td>Contestant</td>\n",
       "      <td>Closed</td>\n",
       "      <td>630000.0</td>\n",
       "      <td>0.630</td>\n",
       "      <td>2013</td>\n",
       "    </tr>\n",
       "    <tr>\n",
       "      <th>2</th>\n",
       "      <td>3DPrinterOS</td>\n",
       "      <td>3dprinteros.com</td>\n",
       "      <td>0</td>\n",
       "      <td>Disrupt SF 2016</td>\n",
       "      <td>Contestant</td>\n",
       "      <td>Operating</td>\n",
       "      <td>0.0</td>\n",
       "      <td>0.000</td>\n",
       "      <td>2016</td>\n",
       "    </tr>\n",
       "    <tr>\n",
       "      <th>3</th>\n",
       "      <td>3Dprintler</td>\n",
       "      <td>3dprintler.com</td>\n",
       "      <td>$1M</td>\n",
       "      <td>Disrupt NY 2016</td>\n",
       "      <td>Audience choice</td>\n",
       "      <td>Operating</td>\n",
       "      <td>1000000.0</td>\n",
       "      <td>1.000</td>\n",
       "      <td>2016</td>\n",
       "    </tr>\n",
       "    <tr>\n",
       "      <th>4</th>\n",
       "      <td>42 Technologies</td>\n",
       "      <td>42technologies.com</td>\n",
       "      <td>0</td>\n",
       "      <td>Disrupt NYC 2013</td>\n",
       "      <td>Contestant</td>\n",
       "      <td>Operating</td>\n",
       "      <td>0.0</td>\n",
       "      <td>0.000</td>\n",
       "      <td>2013</td>\n",
       "    </tr>\n",
       "    <tr>\n",
       "      <th>...</th>\n",
       "      <td>...</td>\n",
       "      <td>...</td>\n",
       "      <td>...</td>\n",
       "      <td>...</td>\n",
       "      <td>...</td>\n",
       "      <td>...</td>\n",
       "      <td>...</td>\n",
       "      <td>...</td>\n",
       "      <td>...</td>\n",
       "    </tr>\n",
       "    <tr>\n",
       "      <th>642</th>\n",
       "      <td>Xendo</td>\n",
       "      <td>xendo.com</td>\n",
       "      <td>$28K</td>\n",
       "      <td>Disrupt SF 2014</td>\n",
       "      <td>Contestant</td>\n",
       "      <td>Acquired</td>\n",
       "      <td>28000.0</td>\n",
       "      <td>0.028</td>\n",
       "      <td>2014</td>\n",
       "    </tr>\n",
       "    <tr>\n",
       "      <th>646</th>\n",
       "      <td>YayPay Inc</td>\n",
       "      <td>yaypay.com</td>\n",
       "      <td>$900K</td>\n",
       "      <td>Disrupt London 2015</td>\n",
       "      <td>Contestant</td>\n",
       "      <td>Operating</td>\n",
       "      <td>900000.0</td>\n",
       "      <td>0.900</td>\n",
       "      <td>2015</td>\n",
       "    </tr>\n",
       "    <tr>\n",
       "      <th>648</th>\n",
       "      <td>YOOBIC</td>\n",
       "      <td>yoobic.com</td>\n",
       "      <td>0</td>\n",
       "      <td>Disrupt London 2015</td>\n",
       "      <td>Finalist</td>\n",
       "      <td>Operating</td>\n",
       "      <td>0.0</td>\n",
       "      <td>0.000</td>\n",
       "      <td>2015</td>\n",
       "    </tr>\n",
       "    <tr>\n",
       "      <th>653</th>\n",
       "      <td>ZAP!</td>\n",
       "      <td>zapreklam.com/</td>\n",
       "      <td>0</td>\n",
       "      <td>Disrupt EU 2014</td>\n",
       "      <td>Audience choice</td>\n",
       "      <td>Operating</td>\n",
       "      <td>0.0</td>\n",
       "      <td>0.000</td>\n",
       "      <td>2014</td>\n",
       "    </tr>\n",
       "    <tr>\n",
       "      <th>660</th>\n",
       "      <td>Zula</td>\n",
       "      <td>zulaapp.com</td>\n",
       "      <td>$3.4M</td>\n",
       "      <td>Disrupt SF 2013</td>\n",
       "      <td>Audience choice</td>\n",
       "      <td>Operating</td>\n",
       "      <td>3400000.0</td>\n",
       "      <td>3.400</td>\n",
       "      <td>2013</td>\n",
       "    </tr>\n",
       "  </tbody>\n",
       "</table>\n",
       "<p>256 rows × 9 columns</p>\n",
       "</div>"
      ],
      "text/plain": [
       "             Startup             Product Funding                Event  \\\n",
       "0             2600Hz          2600hz.com       0      Disrupt SF 2013   \n",
       "1               3DLT            3dlt.com   $630K     Disrupt NYC 2013   \n",
       "2        3DPrinterOS     3dprinteros.com       0      Disrupt SF 2016   \n",
       "3         3Dprintler      3dprintler.com     $1M      Disrupt NY 2016   \n",
       "4    42 Technologies  42technologies.com       0     Disrupt NYC 2013   \n",
       "..               ...                 ...     ...                  ...   \n",
       "642            Xendo           xendo.com    $28K      Disrupt SF 2014   \n",
       "646       YayPay Inc          yaypay.com   $900K  Disrupt London 2015   \n",
       "648           YOOBIC          yoobic.com       0  Disrupt London 2015   \n",
       "653             ZAP!      zapreklam.com/       0      Disrupt EU 2014   \n",
       "660             Zula         zulaapp.com   $3.4M      Disrupt SF 2013   \n",
       "\n",
       "              Result OperatingState  Funding_Clean  Funding_Million  year  \n",
       "0         Contestant      Operating            0.0            0.000  2013  \n",
       "1         Contestant         Closed       630000.0            0.630  2013  \n",
       "2         Contestant      Operating            0.0            0.000  2016  \n",
       "3    Audience choice      Operating      1000000.0            1.000  2016  \n",
       "4         Contestant      Operating            0.0            0.000  2013  \n",
       "..               ...            ...            ...              ...   ...  \n",
       "642       Contestant       Acquired        28000.0            0.028  2014  \n",
       "646       Contestant      Operating       900000.0            0.900  2015  \n",
       "648         Finalist      Operating            0.0            0.000  2015  \n",
       "653  Audience choice      Operating            0.0            0.000  2014  \n",
       "660  Audience choice      Operating      3400000.0            3.400  2013  \n",
       "\n",
       "[256 rows x 9 columns]"
      ]
     },
     "execution_count": 33,
     "metadata": {},
     "output_type": "execute_result"
    }
   ],
   "source": [
    "# define a function to split the data and fetch year from the string\n",
    "\n",
    "def fetch_year(x):\n",
    "    x = x[-4:]\n",
    "    return x\n",
    "\n",
    "# fetch the year and covert it into numeric\n",
    "data['year'] = data['Event'].apply(fetch_year)\n",
    "\n",
    "data['year'] = data['year'].apply(pd.to_numeric)\n",
    "\n",
    "# check for the events with year from 2013 onwards\n",
    "event_from_2013 = data.loc[data['year'] >= 2013]\n",
    "\n",
    "# select event that has disrupt keywords\n",
    "disrupt_event = event_from_2013[event_from_2013['Event'].str.contains(r'\\bDisrupt\\b')]\n",
    "\n",
    "disrupt_event\n"
   ]
  },
  {
   "cell_type": "code",
   "execution_count": 34,
   "metadata": {},
   "outputs": [
    {
     "data": {
      "text/plain": [
       "Disrupt SF 2013        27\n",
       "Disrupt NYC 2013       26\n",
       "Disrupt SF 2016        26\n",
       "Disrupt NY 2015        26\n",
       "Disrupt SF 2015        25\n",
       "Disrupt SF 2014        25\n",
       "Disrupt NYC 2014       24\n",
       "Disrupt NY 2016        22\n",
       "Disrupt EU 2014        15\n",
       "Disrupt EU 2013        14\n",
       "Disrupt London 2016    13\n",
       "Disrupt London 2015    13\n",
       "Name: Event, dtype: int64"
      ]
     },
     "execution_count": 34,
     "metadata": {},
     "output_type": "execute_result"
    }
   ],
   "source": [
    "disrupt_event['Event'].value_counts()"
   ]
  },
  {
   "cell_type": "markdown",
   "metadata": {},
   "source": [
    "#### Hypothesis along with significance test comparing the funds raised by companies across NY, SF and EU events from 2013 onwards."
   ]
  },
  {
   "cell_type": "code",
   "execution_count": 35,
   "metadata": {},
   "outputs": [],
   "source": [
    "# function to fetch cities from Event and make new column\n",
    "\n",
    "def fetch_cities(x):\n",
    "    x = x[-8:10]\n",
    "    return x\n",
    "\n",
    "# cities \n",
    "\n",
    "event_from_2013['Cities'] = event_from_2013['Event'].apply(fetch_cities)\n",
    "\n",
    "event_from_2013['Cities'] = event_from_2013['Cities'].str.replace(r' ','')\n",
    "\n"
   ]
  },
  {
   "cell_type": "code",
   "execution_count": 36,
   "metadata": {},
   "outputs": [
    {
     "name": "stdout",
     "output_type": "stream",
     "text": [
      "Count, Mean and standard deviation of mean fund raised by city NY :  98, 1.89 and 2.83\n",
      "Count, Mean and standard deviation of mean fund raised by city SF : 103, 1.46 and 2.16\n",
      "Count, Mean and standard deviation of mean fund raised by city EU:  29, 1.70 and 3.02\n",
      "               sum_sq     df         F    PR(>F)\n",
      "City         9.302094    2.0  0.701075  0.497122\n",
      "Residual  1505.954294  227.0       NaN       NaN\n"
     ]
    }
   ],
   "source": [
    "# Null hypothesis can be stated as the mean of these three cities remain same .\n",
    "# Alternate hypothesis is that mean change\n",
    "\n",
    "# Null hypothesis can be stated as the mean of these three cities remain same .\n",
    "# Alternate hypothesis is that mean change\n",
    "\n",
    "NY_Event = event_from_2013.loc[event_from_2013['Cities']== 'NY']\n",
    "SF_Event = event_from_2013.loc[event_from_2013['Cities']== 'SF']\n",
    "EU_Event = event_from_2013.loc[event_from_2013['Cities']== 'EU']\n",
    " \n",
    "NY_Event_Fund = NY_Event['Funding_Million'] \n",
    "SF_Event_Fund = SF_Event['Funding_Million'] \n",
    "EU_Event_Fund = EU_Event['Funding_Million']\n",
    "\n",
    "print('Count, Mean and standard deviation of mean fund raised by city NY : %3d, %3.2f and %3.2f' % (len(NY_Event_Fund), NY_Event_Fund.mean(),np.std(NY_Event_Fund ,ddof =1)))\n",
    "print('Count, Mean and standard deviation of mean fund raised by city SF : %3d, %3.2f and %3.2f' % (len(SF_Event_Fund), SF_Event_Fund.mean(),np.std(SF_Event_Fund ,ddof =1)))\n",
    "print('Count, Mean and standard deviation of mean fund raised by city EU: %3d, %3.2f and %3.2f' % (len(EU_Event_Fund), EU_Event_Fund.mean(),np.std(EU_Event_Fund ,ddof =1)))\n",
    "\n",
    "mean_cities_df = pd.DataFrame()\n",
    "\n",
    "df1            = pd.DataFrame({'City': 'NY', 'Mean_Fund':NY_Event_Fund})\n",
    "df2            = pd.DataFrame({'City': 'SF', 'Mean_Fund':SF_Event_Fund})\n",
    "df3            = pd.DataFrame({'City': 'EU', 'Mean_Fund':EU_Event_Fund})\n",
    "\n",
    "mean_cities_df = mean_cities_df.append(df1) \n",
    "mean_cities_df = mean_cities_df.append(df2) \n",
    "mean_cities_df = mean_cities_df.append(df3) \n",
    "\n",
    "import statsmodels.api as sm\n",
    "from   statsmodels.formula.api import ols\n",
    " \n",
    "mod = ols('Mean_Fund ~ City', data = mean_cities_df).fit()\n",
    "aov_table = sm.stats.anova_lm(mod, typ=2)\n",
    "print(aov_table)"
   ]
  },
  {
   "cell_type": "markdown",
   "metadata": {},
   "source": [
    "• Plot the distribution plot comparing the 3 city events."
   ]
  },
  {
   "cell_type": "code",
   "execution_count": 37,
   "metadata": {},
   "outputs": [
    {
     "data": {
      "image/png": "[encoded data removed]",
      "text/plain": [
       "<Figure size 360x360 with 1 Axes>"
      ]
     },
     "metadata": {
      "needs_background": "light"
     },
     "output_type": "display_data"
    }
   ],
   "source": [
    "sns.relplot( x ='City' , y =\"Mean_Fund\" , data = mean_cities_df);"
   ]
  },
  {
   "cell_type": "markdown",
   "metadata": {},
   "source": [
    "#### 5. Observations"
   ]
  },
  {
   "cell_type": "markdown",
   "metadata": {},
   "source": [
    "From all the above visual and statistical analysis we observe that the Funding Column is highly skewed by outliers. We see that there are many outliers even after dropping values greater than upper quartile. There are more Startup who are Contestants that are still operating."
   ]
  }
 ],
 "metadata": {
  "kernelspec": {
   "display_name": "Python 3",
   "language": "python",
   "name": "python3"
  },
  "language_info": {
   "codemirror_mode": {
    "name": "ipython",
    "version": 3
   },
   "file_extension": ".py",
   "mimetype": "text/x-python",
   "name": "python",
   "nbconvert_exporter": "python",
   "pygments_lexer": "ipython3",
   "version": "3.8.3"
  }
 },
 "nbformat": 4,
 "nbformat_minor": 4
}
